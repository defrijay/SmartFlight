{
 "cells": [
  {
   "cell_type": "code",
   "execution_count": 31,
   "id": "0c2ea3c4",
   "metadata": {},
   "outputs": [
    {
     "name": "stderr",
     "output_type": "stream",
     "text": [
      "19:10:55 - cmdstanpy - INFO - Chain [1] start processing\n",
      "19:10:55 - cmdstanpy - INFO - Chain [1] done processing\n",
      "19:10:56 - cmdstanpy - INFO - Chain [1] start processing\n",
      "19:10:56 - cmdstanpy - INFO - Chain [1] done processing\n",
      "19:10:57 - cmdstanpy - INFO - Chain [1] start processing\n",
      "19:10:57 - cmdstanpy - INFO - Chain [1] done processing\n",
      "19:10:58 - cmdstanpy - INFO - Chain [1] start processing\n",
      "19:10:58 - cmdstanpy - INFO - Chain [1] done processing\n",
      "19:10:59 - cmdstanpy - INFO - Chain [1] start processing\n",
      "19:10:59 - cmdstanpy - INFO - Chain [1] done processing\n",
      "19:11:00 - cmdstanpy - INFO - Chain [1] start processing\n",
      "19:11:00 - cmdstanpy - INFO - Chain [1] done processing\n",
      "19:11:01 - cmdstanpy - INFO - Chain [1] start processing\n",
      "19:11:01 - cmdstanpy - INFO - Chain [1] done processing\n",
      "19:11:01 - cmdstanpy - INFO - Chain [1] start processing\n",
      "19:11:02 - cmdstanpy - INFO - Chain [1] done processing\n",
      "19:11:02 - cmdstanpy - INFO - Chain [1] start processing\n",
      "19:11:02 - cmdstanpy - INFO - Chain [1] done processing\n",
      "19:11:03 - cmdstanpy - INFO - Chain [1] start processing\n",
      "19:11:03 - cmdstanpy - INFO - Chain [1] done processing\n",
      "19:11:04 - cmdstanpy - INFO - Chain [1] start processing\n",
      "19:11:04 - cmdstanpy - INFO - Chain [1] done processing\n",
      "19:11:05 - cmdstanpy - INFO - Chain [1] start processing\n",
      "19:11:05 - cmdstanpy - INFO - Chain [1] done processing\n",
      "19:11:06 - cmdstanpy - INFO - Chain [1] start processing\n",
      "19:11:06 - cmdstanpy - INFO - Chain [1] done processing\n",
      "19:11:07 - cmdstanpy - INFO - Chain [1] start processing\n",
      "19:11:07 - cmdstanpy - INFO - Chain [1] done processing\n",
      "19:11:08 - cmdstanpy - INFO - Chain [1] start processing\n",
      "19:11:08 - cmdstanpy - INFO - Chain [1] done processing\n",
      "19:11:09 - cmdstanpy - INFO - Chain [1] start processing\n",
      "19:11:09 - cmdstanpy - INFO - Chain [1] done processing\n",
      "19:11:10 - cmdstanpy - INFO - Chain [1] start processing\n",
      "19:11:10 - cmdstanpy - INFO - Chain [1] done processing\n",
      "19:11:11 - cmdstanpy - INFO - Chain [1] start processing\n",
      "19:11:11 - cmdstanpy - INFO - Chain [1] done processing\n",
      "19:11:12 - cmdstanpy - INFO - Chain [1] start processing\n",
      "19:11:12 - cmdstanpy - INFO - Chain [1] done processing\n",
      "19:11:13 - cmdstanpy - INFO - Chain [1] start processing\n",
      "19:11:13 - cmdstanpy - INFO - Chain [1] done processing\n",
      "19:11:14 - cmdstanpy - INFO - Chain [1] start processing\n",
      "19:11:14 - cmdstanpy - INFO - Chain [1] done processing\n",
      "19:11:15 - cmdstanpy - INFO - Chain [1] start processing\n",
      "19:11:15 - cmdstanpy - INFO - Chain [1] done processing\n",
      "19:11:16 - cmdstanpy - INFO - Chain [1] start processing\n",
      "19:11:16 - cmdstanpy - INFO - Chain [1] done processing\n",
      "19:11:16 - cmdstanpy - INFO - Chain [1] start processing\n",
      "19:11:16 - cmdstanpy - INFO - Chain [1] done processing\n",
      "19:11:17 - cmdstanpy - INFO - Chain [1] start processing\n",
      "19:11:17 - cmdstanpy - INFO - Chain [1] done processing\n",
      "19:11:18 - cmdstanpy - INFO - Chain [1] start processing\n",
      "19:11:18 - cmdstanpy - INFO - Chain [1] done processing\n",
      "19:11:19 - cmdstanpy - INFO - Chain [1] start processing\n",
      "19:11:19 - cmdstanpy - INFO - Chain [1] done processing\n",
      "19:11:20 - cmdstanpy - INFO - Chain [1] start processing\n",
      "19:11:20 - cmdstanpy - INFO - Chain [1] done processing\n",
      "19:11:21 - cmdstanpy - INFO - Chain [1] start processing\n",
      "19:11:21 - cmdstanpy - INFO - Chain [1] done processing\n"
     ]
    },
    {
     "data": {
      "application/vnd.plotly.v1+json": {
       "config": {
        "plotlyServerURL": "https://plot.ly"
       },
       "data": [
        {
         "mode": "lines",
         "name": "Forecast JOG",
         "type": "scatter",
         "x": [
          "2024-02-28T00:00:00",
          "2024-02-29T00:00:00",
          "2024-03-01T00:00:00",
          "2024-03-02T00:00:00",
          "2024-03-03T00:00:00",
          "2024-03-04T00:00:00",
          "2024-03-05T00:00:00"
         ],
         "xaxis": "x",
         "y": {
          "bdata": "ha6lvIf+MUGgsg4t9rExQW67j9sA0zFBPO4TYWuqMUH6jbCqiOgxQdxRU/Pp1DFBp5SHj8SqMUE=",
          "dtype": "f8"
         },
         "yaxis": "y"
        },
        {
         "line": {
          "width": 0
         },
         "mode": "lines",
         "name": "Upper",
         "showlegend": false,
         "type": "scatter",
         "x": [
          "2024-02-28T00:00:00",
          "2024-02-29T00:00:00",
          "2024-03-01T00:00:00",
          "2024-03-02T00:00:00",
          "2024-03-03T00:00:00",
          "2024-03-04T00:00:00",
          "2024-03-05T00:00:00"
         ],
         "xaxis": "x",
         "y": {
          "bdata": "e3oP7z/kMkGkAC/Bm58yQRNU9DKmvzJBx5C/a9OAMkFHcGqolNMyQfmx5z/wwDJB9c2lAfyMMkE=",
          "dtype": "f8"
         },
         "yaxis": "y"
        },
        {
         "fill": "tonexty",
         "fillcolor": "rgba(173,216,230,0.3)",
         "line": {
          "width": 0
         },
         "mode": "lines",
         "name": "Lower",
         "showlegend": false,
         "type": "scatter",
         "x": [
          "2024-02-28T00:00:00",
          "2024-02-29T00:00:00",
          "2024-03-01T00:00:00",
          "2024-03-02T00:00:00",
          "2024-03-03T00:00:00",
          "2024-03-04T00:00:00",
          "2024-03-05T00:00:00"
         ],
         "xaxis": "x",
         "y": {
          "bdata": "A5RKmUsRMUHJtmzkCdUwQTepyn3N6DBBoFucZa60MEEcUGg/twAxQSfmIwGg8TBBG3NMuR2/MEE=",
          "dtype": "f8"
         },
         "yaxis": "y"
        },
        {
         "mode": "lines",
         "name": "Forecast YIA",
         "type": "scatter",
         "x": [
          "2024-03-14T00:00:00",
          "2024-03-15T00:00:00",
          "2024-03-16T00:00:00",
          "2024-03-17T00:00:00",
          "2024-03-18T00:00:00",
          "2024-03-19T00:00:00",
          "2024-03-20T00:00:00"
         ],
         "xaxis": "x2",
         "y": {
          "bdata": "wHAFq3J3FUGEKh8JwNAXQaudY5VCJBVB0OragyOUFUHMDhxooSYVQQqYttkZIxVB7/PybM5FFUE=",
          "dtype": "f8"
         },
         "yaxis": "y2"
        },
        {
         "line": {
          "width": 0
         },
         "mode": "lines",
         "name": "Upper",
         "showlegend": false,
         "type": "scatter",
         "x": [
          "2024-03-14T00:00:00",
          "2024-03-15T00:00:00",
          "2024-03-16T00:00:00",
          "2024-03-17T00:00:00",
          "2024-03-18T00:00:00",
          "2024-03-19T00:00:00",
          "2024-03-20T00:00:00"
         ],
         "xaxis": "x2",
         "y": {
          "bdata": "usstarfzGUFBdQ6uxTocQWpQVI6Z3RlBL/qBSnlSGkGMNXFnwIsZQThpcI8YnRlBVWVgDoegGUE=",
          "dtype": "f8"
         },
         "yaxis": "y2"
        },
        {
         "fill": "tonexty",
         "fillcolor": "rgba(173,216,230,0.3)",
         "line": {
          "width": 0
         },
         "mode": "lines",
         "name": "Lower",
         "showlegend": false,
         "type": "scatter",
         "x": [
          "2024-03-14T00:00:00",
          "2024-03-15T00:00:00",
          "2024-03-16T00:00:00",
          "2024-03-17T00:00:00",
          "2024-03-18T00:00:00",
          "2024-03-19T00:00:00",
          "2024-03-20T00:00:00"
         ],
         "xaxis": "x2",
         "y": {
          "bdata": "oNRC9h7yEEEz+BTizikTQYHEg8TmqRBBHSjTkZcNEUGLncbzh5oQQXjgJCOTYxBBqKjNlxmjEEE=",
          "dtype": "f8"
         },
         "yaxis": "y2"
        },
        {
         "mode": "lines",
         "name": "Forecast DPS",
         "type": "scatter",
         "x": [
          "2024-03-14T00:00:00",
          "2024-03-15T00:00:00",
          "2024-03-16T00:00:00",
          "2024-03-17T00:00:00",
          "2024-03-18T00:00:00",
          "2024-03-19T00:00:00",
          "2024-03-20T00:00:00"
         ],
         "xaxis": "x3",
         "y": {
          "bdata": "VyrMLedtLkHkQhA+ftkvQQNtF0BeaS5B6RrCQzg4LkFkCEotwD8uQdnIgOC2RC5BNVJeBjbcLkE=",
          "dtype": "f8"
         },
         "yaxis": "y3"
        },
        {
         "line": {
          "width": 0
         },
         "mode": "lines",
         "name": "Upper",
         "showlegend": false,
         "type": "scatter",
         "x": [
          "2024-03-14T00:00:00",
          "2024-03-15T00:00:00",
          "2024-03-16T00:00:00",
          "2024-03-17T00:00:00",
          "2024-03-18T00:00:00",
          "2024-03-19T00:00:00",
          "2024-03-20T00:00:00"
         ],
         "xaxis": "x3",
         "y": {
          "bdata": "m0vu7mFOMEFleAv4cPkwQWxDWCIqTDBBxkPj/SU3MEElf7SvgTgwQQRoLJtOLDBBlTvqzkqLMEE=",
          "dtype": "f8"
         },
         "yaxis": "y3"
        },
        {
         "fill": "tonexty",
         "fillcolor": "rgba(173,216,230,0.3)",
         "line": {
          "width": 0
         },
         "mode": "lines",
         "name": "Lower",
         "showlegend": false,
         "type": "scatter",
         "x": [
          "2024-03-14T00:00:00",
          "2024-03-15T00:00:00",
          "2024-03-16T00:00:00",
          "2024-03-17T00:00:00",
          "2024-03-18T00:00:00",
          "2024-03-19T00:00:00",
          "2024-03-20T00:00:00"
         ],
         "xaxis": "x3",
         "y": {
          "bdata": "Aal+uZRLLEEjXZIoHJAtQXJsDmXvCixBSE3kmZ8cLEHloTEb5CosQdXvtxebDixB7kZk8Q7VLEE=",
          "dtype": "f8"
         },
         "yaxis": "y3"
        },
        {
         "mode": "lines",
         "name": "Forecast BPN",
         "type": "scatter",
         "x": [
          "2023-07-27T00:00:00",
          "2023-07-28T00:00:00",
          "2023-07-29T00:00:00",
          "2023-07-30T00:00:00",
          "2023-07-31T00:00:00",
          "2023-08-01T00:00:00",
          "2023-08-02T00:00:00"
         ],
         "xaxis": "x4",
         "y": {
          "bdata": "mC15gJ0pNEEc+iTPUt8zQQxM1qK7vTRBek3kuEqdNEGumREZsW00QW+/aQ0rgDRBsvKElhKONEE=",
          "dtype": "f8"
         },
         "yaxis": "y4"
        },
        {
         "line": {
          "width": 0
         },
         "mode": "lines",
         "name": "Upper",
         "showlegend": false,
         "type": "scatter",
         "x": [
          "2023-07-27T00:00:00",
          "2023-07-28T00:00:00",
          "2023-07-29T00:00:00",
          "2023-07-30T00:00:00",
          "2023-07-31T00:00:00",
          "2023-08-01T00:00:00",
          "2023-08-02T00:00:00"
         ],
         "xaxis": "x4",
         "y": {
          "bdata": "tNNl974cOEEjU5fmnn83Qf9maRf3wjhBsUVNGAbPOEHt0CmK/jA4QSWp/eB6kThBmcovA64VOEE=",
          "dtype": "f8"
         },
         "yaxis": "y4"
        },
        {
         "fill": "tonexty",
         "fillcolor": "rgba(173,216,230,0.3)",
         "line": {
          "width": 0
         },
         "mode": "lines",
         "name": "Lower",
         "showlegend": false,
         "type": "scatter",
         "x": [
          "2023-07-27T00:00:00",
          "2023-07-28T00:00:00",
          "2023-07-29T00:00:00",
          "2023-07-30T00:00:00",
          "2023-07-31T00:00:00",
          "2023-08-01T00:00:00",
          "2023-08-02T00:00:00"
         ],
         "xaxis": "x4",
         "y": {
          "bdata": "EahuIyQaMEFBkk1RUhcwQZl9GXgt5zBBcNaajcWfMEEwfkL3flQwQUT9hC8yyjBBkm7Jb3TLMEE=",
          "dtype": "f8"
         },
         "yaxis": "y4"
        },
        {
         "mode": "lines",
         "name": "Forecast LOP",
         "type": "scatter",
         "x": [
          "2023-07-27T00:00:00",
          "2023-07-28T00:00:00",
          "2023-07-29T00:00:00",
          "2023-07-30T00:00:00",
          "2023-07-31T00:00:00",
          "2023-08-01T00:00:00",
          "2023-08-02T00:00:00"
         ],
         "xaxis": "x5",
         "y": {
          "bdata": "YmkQUjMLMEHrphqcAHkwQc9aJAW4DjBBOXN1RpWmMEHIizY7C7cwQR2xAujKKDBBkOBrSLy3MEE=",
          "dtype": "f8"
         },
         "yaxis": "y5"
        },
        {
         "line": {
          "width": 0
         },
         "mode": "lines",
         "name": "Upper",
         "showlegend": false,
         "type": "scatter",
         "x": [
          "2023-07-27T00:00:00",
          "2023-07-28T00:00:00",
          "2023-07-29T00:00:00",
          "2023-07-30T00:00:00",
          "2023-07-31T00:00:00",
          "2023-08-01T00:00:00",
          "2023-08-02T00:00:00"
         ],
         "xaxis": "x5",
         "y": {
          "bdata": "lxBiGqWQMUGfB8hpAdMxQRIFANXXgzFBsTg5x4AfMkG6ng/MJjIyQX3ugFBhjjFBFNNl564gMkE=",
          "dtype": "f8"
         },
         "yaxis": "y5"
        },
        {
         "fill": "tonexty",
         "fillcolor": "rgba(173,216,230,0.3)",
         "line": {
          "width": 0
         },
         "mode": "lines",
         "name": "Lower",
         "showlegend": false,
         "type": "scatter",
         "x": [
          "2023-07-27T00:00:00",
          "2023-07-28T00:00:00",
          "2023-07-29T00:00:00",
          "2023-07-30T00:00:00",
          "2023-07-31T00:00:00",
          "2023-08-01T00:00:00",
          "2023-08-02T00:00:00"
         ],
         "xaxis": "x5",
         "y": {
          "bdata": "PCd+5fk+LUHGRBz7f/AtQVblxhvjJi1BuXtFHfBJLkH3UfHdpJIuQbcCgxGFRi1Bsr2+EjJ+LkE=",
          "dtype": "f8"
         },
         "yaxis": "y5"
        },
        {
         "mode": "lines",
         "name": "Forecast SUB",
         "type": "scatter",
         "x": [
          "2023-07-26T00:00:00",
          "2023-07-27T00:00:00",
          "2023-07-28T00:00:00",
          "2023-07-29T00:00:00",
          "2023-07-30T00:00:00",
          "2023-07-31T00:00:00",
          "2023-08-01T00:00:00"
         ],
         "xaxis": "x6",
         "y": {
          "bdata": "E5GlD7WMJkFLnx5RepImQW8B/FVPpiZBasLz8VSMJkFb4KGs1oImQW825yBVmSZBR1aUyH+KJkE=",
          "dtype": "f8"
         },
         "yaxis": "y6"
        },
        {
         "line": {
          "width": 0
         },
         "mode": "lines",
         "name": "Upper",
         "showlegend": false,
         "type": "scatter",
         "x": [
          "2023-07-26T00:00:00",
          "2023-07-27T00:00:00",
          "2023-07-28T00:00:00",
          "2023-07-29T00:00:00",
          "2023-07-30T00:00:00",
          "2023-07-31T00:00:00",
          "2023-08-01T00:00:00"
         ],
         "xaxis": "x6",
         "y": {
          "bdata": "+BtmepItKEFgZsQH/UIoQa7OevpKQShBHp3fc4tCKEHdltD1VCIoQSrb+PeXFChB7J1Lk2woKEE=",
          "dtype": "f8"
         },
         "yaxis": "y6"
        },
        {
         "fill": "tonexty",
         "fillcolor": "rgba(173,216,230,0.3)",
         "line": {
          "width": 0
         },
         "mode": "lines",
         "name": "Lower",
         "showlegend": false,
         "type": "scatter",
         "x": [
          "2023-07-26T00:00:00",
          "2023-07-27T00:00:00",
          "2023-07-28T00:00:00",
          "2023-07-29T00:00:00",
          "2023-07-30T00:00:00",
          "2023-07-31T00:00:00",
          "2023-08-01T00:00:00"
         ],
         "xaxis": "x6",
         "y": {
          "bdata": "aahQzH3hJEE9lSov+fYkQdhwvvU2EyVBPjWb7WEKJUEhcqG5x/YkQWo4Q8vECCVB+EOuvxT6JEE=",
          "dtype": "f8"
         },
         "yaxis": "y6"
        },
        {
         "mode": "lines",
         "name": "Forecast UPG",
         "type": "scatter",
         "x": [
          "2023-07-26T00:00:00",
          "2023-07-27T00:00:00",
          "2023-07-28T00:00:00",
          "2023-07-29T00:00:00",
          "2023-07-30T00:00:00",
          "2023-07-31T00:00:00",
          "2023-08-01T00:00:00"
         ],
         "xaxis": "x7",
         "y": {
          "bdata": "eE88TDzHOEF0oRL96j84QfMmXuHGhzhBAET2OrAxOEEUoXSG8C84QVRogcaNKThByo1GtSUSOUE=",
          "dtype": "f8"
         },
         "yaxis": "y7"
        },
        {
         "line": {
          "width": 0
         },
         "mode": "lines",
         "name": "Upper",
         "showlegend": false,
         "type": "scatter",
         "x": [
          "2023-07-26T00:00:00",
          "2023-07-27T00:00:00",
          "2023-07-28T00:00:00",
          "2023-07-29T00:00:00",
          "2023-07-30T00:00:00",
          "2023-07-31T00:00:00",
          "2023-08-01T00:00:00"
         ],
         "xaxis": "x7",
         "y": {
          "bdata": "gBC7oumJO0EUwytGixM7QaDvu01bQztBDAVcVXT4OkFUVep9qP46QWqaWV5zwDpBKjQqQvjhO0E=",
          "dtype": "f8"
         },
         "yaxis": "y7"
        },
        {
         "fill": "tonexty",
         "fillcolor": "rgba(173,216,230,0.3)",
         "line": {
          "width": 0
         },
         "mode": "lines",
         "name": "Lower",
         "showlegend": false,
         "type": "scatter",
         "x": [
          "2023-07-26T00:00:00",
          "2023-07-27T00:00:00",
          "2023-07-28T00:00:00",
          "2023-07-29T00:00:00",
          "2023-07-30T00:00:00",
          "2023-07-31T00:00:00",
          "2023-08-01T00:00:00"
         ],
         "xaxis": "x7",
         "y": {
          "bdata": "wG3wnkEJNkGIjKgBUZo1QT2mSNhstTVBdNFuNo2FNUEAt5v9UHI1QdXXaH/OWDVB9lKuMjA4NkE=",
          "dtype": "f8"
         },
         "yaxis": "y7"
        },
        {
         "mode": "lines",
         "name": "Forecast KNO",
         "type": "scatter",
         "x": [
          "2023-07-26T00:00:00",
          "2023-07-27T00:00:00",
          "2023-07-28T00:00:00",
          "2023-07-29T00:00:00",
          "2023-07-30T00:00:00",
          "2023-07-31T00:00:00",
          "2023-08-01T00:00:00"
         ],
         "xaxis": "x8",
         "y": {
          "bdata": "2ICJBmhoKkE2PpzuQPUpQf4rerc3eipBRtQHeFfMKUEKu54C1DIqQZRszmkcBypB3PUCEEagKUE=",
          "dtype": "f8"
         },
         "yaxis": "y8"
        },
        {
         "line": {
          "width": 0
         },
         "mode": "lines",
         "name": "Upper",
         "showlegend": false,
         "type": "scatter",
         "x": [
          "2023-07-26T00:00:00",
          "2023-07-27T00:00:00",
          "2023-07-28T00:00:00",
          "2023-07-29T00:00:00",
          "2023-07-30T00:00:00",
          "2023-07-31T00:00:00",
          "2023-08-01T00:00:00"
         ],
         "xaxis": "x8",
         "y": {
          "bdata": "CZXuFYE+LUFlYCd4GcAsQWOeMgF4cC1Bqqs0XtPjLEG8tghrMEctQW2pSwOQzCxBaVB8/Zt1LEE=",
          "dtype": "f8"
         },
         "yaxis": "y8"
        },
        {
         "fill": "tonexty",
         "fillcolor": "rgba(173,216,230,0.3)",
         "line": {
          "width": 0
         },
         "mode": "lines",
         "name": "Lower",
         "showlegend": false,
         "type": "scatter",
         "x": [
          "2023-07-26T00:00:00",
          "2023-07-27T00:00:00",
          "2023-07-28T00:00:00",
          "2023-07-29T00:00:00",
          "2023-07-30T00:00:00",
          "2023-07-31T00:00:00",
          "2023-08-01T00:00:00"
         ],
         "xaxis": "x8",
         "y": {
          "bdata": "TsEBOwGBJ0GOXioTlvkmQboxZa5AbCdBGzuZtvnFJkFm9J6D6A8nQQuZMSk78SZByKEx8E64JkE=",
          "dtype": "f8"
         },
         "yaxis": "y8"
        },
        {
         "mode": "lines",
         "name": "Forecast BDJ",
         "type": "scatter",
         "x": [
          "2023-07-25T00:00:00",
          "2023-07-26T00:00:00",
          "2023-07-27T00:00:00",
          "2023-07-28T00:00:00",
          "2023-07-29T00:00:00",
          "2023-07-30T00:00:00",
          "2023-07-31T00:00:00"
         ],
         "xaxis": "x9",
         "y": {
          "bdata": "aC/gvpaWMEEezOnp5gwxQZui/WLO/TBBA1t9gf/YMEGXuH1vOPYwQd7saa+AHjFBVNCkfOsHMUE=",
          "dtype": "f8"
         },
         "yaxis": "y9"
        },
        {
         "line": {
          "width": 0
         },
         "mode": "lines",
         "name": "Upper",
         "showlegend": false,
         "type": "scatter",
         "x": [
          "2023-07-25T00:00:00",
          "2023-07-26T00:00:00",
          "2023-07-27T00:00:00",
          "2023-07-28T00:00:00",
          "2023-07-29T00:00:00",
          "2023-07-30T00:00:00",
          "2023-07-31T00:00:00"
         ],
         "xaxis": "x9",
         "y": {
          "bdata": "7HhhUQtxM0FNSfXy6BQ0QVbyRPVa2DNBLbVWRUihM0FiSwe4d8kzQfSGimQf8DNBQ1aJoTcdNEE=",
          "dtype": "f8"
         },
         "yaxis": "y9"
        },
        {
         "fill": "tonexty",
         "fillcolor": "rgba(173,216,230,0.3)",
         "line": {
          "width": 0
         },
         "mode": "lines",
         "name": "Lower",
         "showlegend": false,
         "type": "scatter",
         "x": [
          "2023-07-25T00:00:00",
          "2023-07-26T00:00:00",
          "2023-07-27T00:00:00",
          "2023-07-28T00:00:00",
          "2023-07-29T00:00:00",
          "2023-07-30T00:00:00",
          "2023-07-31T00:00:00"
         ],
         "xaxis": "x9",
         "y": {
          "bdata": "VlzBuonbKkGpHuBrtXIsQbUhRhGoiCxBmCagVIPGK0EvVdpBVqIsQYaLzfE3CSxB1iq/fVJPLEE=",
          "dtype": "f8"
         },
         "yaxis": "y9"
        },
        {
         "mode": "lines",
         "name": "Forecast MDC",
         "type": "scatter",
         "x": [
          "2023-07-25T00:00:00",
          "2023-07-26T00:00:00",
          "2023-07-27T00:00:00",
          "2023-07-28T00:00:00",
          "2023-07-29T00:00:00",
          "2023-07-30T00:00:00",
          "2023-07-31T00:00:00"
         ],
         "xaxis": "x10",
         "y": {
          "bdata": "E/QPF8U0RkGfPTnrvQdGQdkNYrtIt0ZBniyVNVlxRkGlNbozKTNGQYjLH2oEA0ZBk6xEwRf3RUE=",
          "dtype": "f8"
         },
         "yaxis": "y10"
        },
        {
         "line": {
          "width": 0
         },
         "mode": "lines",
         "name": "Upper",
         "showlegend": false,
         "type": "scatter",
         "x": [
          "2023-07-25T00:00:00",
          "2023-07-26T00:00:00",
          "2023-07-27T00:00:00",
          "2023-07-28T00:00:00",
          "2023-07-29T00:00:00",
          "2023-07-30T00:00:00",
          "2023-07-31T00:00:00"
         ],
         "xaxis": "x10",
         "y": {
          "bdata": "uUoXUSGzSEEU3wiTO35IQU+5s0aUYUlBa3JtyRoTSUHpM8Y+c81IQez4vm2NuEhBUwS5cgx0SEE=",
          "dtype": "f8"
         },
         "yaxis": "y10"
        },
        {
         "fill": "tonexty",
         "fillcolor": "rgba(173,216,230,0.3)",
         "line": {
          "width": 0
         },
         "mode": "lines",
         "name": "Lower",
         "showlegend": false,
         "type": "scatter",
         "x": [
          "2023-07-25T00:00:00",
          "2023-07-26T00:00:00",
          "2023-07-27T00:00:00",
          "2023-07-28T00:00:00",
          "2023-07-29T00:00:00",
          "2023-07-30T00:00:00",
          "2023-07-31T00:00:00"
         ],
         "xaxis": "x10",
         "y": {
          "bdata": "G0dwPZanQ0H8SyxCl5RDQdyVdufMJURBqErs6Z+iQ0E287/V9adDQQ3skx9GVUNBvdkvhnUuQ0E=",
          "dtype": "f8"
         },
         "yaxis": "y10"
        }
       ],
       "layout": {
        "annotations": [
         {
          "font": {
           "size": 16
          },
          "showarrow": false,
          "text": "Tujuan JOG",
          "x": 0.225,
          "xanchor": "center",
          "xref": "paper",
          "y": 1,
          "yanchor": "bottom",
          "yref": "paper"
         },
         {
          "font": {
           "size": 16
          },
          "showarrow": false,
          "text": "Tujuan YIA",
          "x": 0.775,
          "xanchor": "center",
          "xref": "paper",
          "y": 1,
          "yanchor": "bottom",
          "yref": "paper"
         },
         {
          "font": {
           "size": 16
          },
          "showarrow": false,
          "text": "Tujuan DPS",
          "x": 0.225,
          "xanchor": "center",
          "xref": "paper",
          "y": 0.78,
          "yanchor": "bottom",
          "yref": "paper"
         },
         {
          "font": {
           "size": 16
          },
          "showarrow": false,
          "text": "Tujuan BPN",
          "x": 0.775,
          "xanchor": "center",
          "xref": "paper",
          "y": 0.78,
          "yanchor": "bottom",
          "yref": "paper"
         },
         {
          "font": {
           "size": 16
          },
          "showarrow": false,
          "text": "Tujuan LOP",
          "x": 0.225,
          "xanchor": "center",
          "xref": "paper",
          "y": 0.56,
          "yanchor": "bottom",
          "yref": "paper"
         },
         {
          "font": {
           "size": 16
          },
          "showarrow": false,
          "text": "Tujuan SUB",
          "x": 0.775,
          "xanchor": "center",
          "xref": "paper",
          "y": 0.56,
          "yanchor": "bottom",
          "yref": "paper"
         },
         {
          "font": {
           "size": 16
          },
          "showarrow": false,
          "text": "Tujuan UPG",
          "x": 0.225,
          "xanchor": "center",
          "xref": "paper",
          "y": 0.33999999999999997,
          "yanchor": "bottom",
          "yref": "paper"
         },
         {
          "font": {
           "size": 16
          },
          "showarrow": false,
          "text": "Tujuan KNO",
          "x": 0.775,
          "xanchor": "center",
          "xref": "paper",
          "y": 0.33999999999999997,
          "yanchor": "bottom",
          "yref": "paper"
         },
         {
          "font": {
           "size": 16
          },
          "showarrow": false,
          "text": "Tujuan BDJ",
          "x": 0.225,
          "xanchor": "center",
          "xref": "paper",
          "y": 0.12,
          "yanchor": "bottom",
          "yref": "paper"
         },
         {
          "font": {
           "size": 16
          },
          "showarrow": false,
          "text": "Tujuan MDC",
          "x": 0.775,
          "xanchor": "center",
          "xref": "paper",
          "y": 0.12,
          "yanchor": "bottom",
          "yref": "paper"
         }
        ],
        "height": 1200,
        "template": {
         "data": {
          "bar": [
           {
            "error_x": {
             "color": "#2a3f5f"
            },
            "error_y": {
             "color": "#2a3f5f"
            },
            "marker": {
             "line": {
              "color": "#E5ECF6",
              "width": 0.5
             },
             "pattern": {
              "fillmode": "overlay",
              "size": 10,
              "solidity": 0.2
             }
            },
            "type": "bar"
           }
          ],
          "barpolar": [
           {
            "marker": {
             "line": {
              "color": "#E5ECF6",
              "width": 0.5
             },
             "pattern": {
              "fillmode": "overlay",
              "size": 10,
              "solidity": 0.2
             }
            },
            "type": "barpolar"
           }
          ],
          "carpet": [
           {
            "aaxis": {
             "endlinecolor": "#2a3f5f",
             "gridcolor": "white",
             "linecolor": "white",
             "minorgridcolor": "white",
             "startlinecolor": "#2a3f5f"
            },
            "baxis": {
             "endlinecolor": "#2a3f5f",
             "gridcolor": "white",
             "linecolor": "white",
             "minorgridcolor": "white",
             "startlinecolor": "#2a3f5f"
            },
            "type": "carpet"
           }
          ],
          "choropleth": [
           {
            "colorbar": {
             "outlinewidth": 0,
             "ticks": ""
            },
            "type": "choropleth"
           }
          ],
          "contour": [
           {
            "colorbar": {
             "outlinewidth": 0,
             "ticks": ""
            },
            "colorscale": [
             [
              0,
              "#0d0887"
             ],
             [
              0.1111111111111111,
              "#46039f"
             ],
             [
              0.2222222222222222,
              "#7201a8"
             ],
             [
              0.3333333333333333,
              "#9c179e"
             ],
             [
              0.4444444444444444,
              "#bd3786"
             ],
             [
              0.5555555555555556,
              "#d8576b"
             ],
             [
              0.6666666666666666,
              "#ed7953"
             ],
             [
              0.7777777777777778,
              "#fb9f3a"
             ],
             [
              0.8888888888888888,
              "#fdca26"
             ],
             [
              1,
              "#f0f921"
             ]
            ],
            "type": "contour"
           }
          ],
          "contourcarpet": [
           {
            "colorbar": {
             "outlinewidth": 0,
             "ticks": ""
            },
            "type": "contourcarpet"
           }
          ],
          "heatmap": [
           {
            "colorbar": {
             "outlinewidth": 0,
             "ticks": ""
            },
            "colorscale": [
             [
              0,
              "#0d0887"
             ],
             [
              0.1111111111111111,
              "#46039f"
             ],
             [
              0.2222222222222222,
              "#7201a8"
             ],
             [
              0.3333333333333333,
              "#9c179e"
             ],
             [
              0.4444444444444444,
              "#bd3786"
             ],
             [
              0.5555555555555556,
              "#d8576b"
             ],
             [
              0.6666666666666666,
              "#ed7953"
             ],
             [
              0.7777777777777778,
              "#fb9f3a"
             ],
             [
              0.8888888888888888,
              "#fdca26"
             ],
             [
              1,
              "#f0f921"
             ]
            ],
            "type": "heatmap"
           }
          ],
          "histogram": [
           {
            "marker": {
             "pattern": {
              "fillmode": "overlay",
              "size": 10,
              "solidity": 0.2
             }
            },
            "type": "histogram"
           }
          ],
          "histogram2d": [
           {
            "colorbar": {
             "outlinewidth": 0,
             "ticks": ""
            },
            "colorscale": [
             [
              0,
              "#0d0887"
             ],
             [
              0.1111111111111111,
              "#46039f"
             ],
             [
              0.2222222222222222,
              "#7201a8"
             ],
             [
              0.3333333333333333,
              "#9c179e"
             ],
             [
              0.4444444444444444,
              "#bd3786"
             ],
             [
              0.5555555555555556,
              "#d8576b"
             ],
             [
              0.6666666666666666,
              "#ed7953"
             ],
             [
              0.7777777777777778,
              "#fb9f3a"
             ],
             [
              0.8888888888888888,
              "#fdca26"
             ],
             [
              1,
              "#f0f921"
             ]
            ],
            "type": "histogram2d"
           }
          ],
          "histogram2dcontour": [
           {
            "colorbar": {
             "outlinewidth": 0,
             "ticks": ""
            },
            "colorscale": [
             [
              0,
              "#0d0887"
             ],
             [
              0.1111111111111111,
              "#46039f"
             ],
             [
              0.2222222222222222,
              "#7201a8"
             ],
             [
              0.3333333333333333,
              "#9c179e"
             ],
             [
              0.4444444444444444,
              "#bd3786"
             ],
             [
              0.5555555555555556,
              "#d8576b"
             ],
             [
              0.6666666666666666,
              "#ed7953"
             ],
             [
              0.7777777777777778,
              "#fb9f3a"
             ],
             [
              0.8888888888888888,
              "#fdca26"
             ],
             [
              1,
              "#f0f921"
             ]
            ],
            "type": "histogram2dcontour"
           }
          ],
          "mesh3d": [
           {
            "colorbar": {
             "outlinewidth": 0,
             "ticks": ""
            },
            "type": "mesh3d"
           }
          ],
          "parcoords": [
           {
            "line": {
             "colorbar": {
              "outlinewidth": 0,
              "ticks": ""
             }
            },
            "type": "parcoords"
           }
          ],
          "pie": [
           {
            "automargin": true,
            "type": "pie"
           }
          ],
          "scatter": [
           {
            "fillpattern": {
             "fillmode": "overlay",
             "size": 10,
             "solidity": 0.2
            },
            "type": "scatter"
           }
          ],
          "scatter3d": [
           {
            "line": {
             "colorbar": {
              "outlinewidth": 0,
              "ticks": ""
             }
            },
            "marker": {
             "colorbar": {
              "outlinewidth": 0,
              "ticks": ""
             }
            },
            "type": "scatter3d"
           }
          ],
          "scattercarpet": [
           {
            "marker": {
             "colorbar": {
              "outlinewidth": 0,
              "ticks": ""
             }
            },
            "type": "scattercarpet"
           }
          ],
          "scattergeo": [
           {
            "marker": {
             "colorbar": {
              "outlinewidth": 0,
              "ticks": ""
             }
            },
            "type": "scattergeo"
           }
          ],
          "scattergl": [
           {
            "marker": {
             "colorbar": {
              "outlinewidth": 0,
              "ticks": ""
             }
            },
            "type": "scattergl"
           }
          ],
          "scattermap": [
           {
            "marker": {
             "colorbar": {
              "outlinewidth": 0,
              "ticks": ""
             }
            },
            "type": "scattermap"
           }
          ],
          "scattermapbox": [
           {
            "marker": {
             "colorbar": {
              "outlinewidth": 0,
              "ticks": ""
             }
            },
            "type": "scattermapbox"
           }
          ],
          "scatterpolar": [
           {
            "marker": {
             "colorbar": {
              "outlinewidth": 0,
              "ticks": ""
             }
            },
            "type": "scatterpolar"
           }
          ],
          "scatterpolargl": [
           {
            "marker": {
             "colorbar": {
              "outlinewidth": 0,
              "ticks": ""
             }
            },
            "type": "scatterpolargl"
           }
          ],
          "scatterternary": [
           {
            "marker": {
             "colorbar": {
              "outlinewidth": 0,
              "ticks": ""
             }
            },
            "type": "scatterternary"
           }
          ],
          "surface": [
           {
            "colorbar": {
             "outlinewidth": 0,
             "ticks": ""
            },
            "colorscale": [
             [
              0,
              "#0d0887"
             ],
             [
              0.1111111111111111,
              "#46039f"
             ],
             [
              0.2222222222222222,
              "#7201a8"
             ],
             [
              0.3333333333333333,
              "#9c179e"
             ],
             [
              0.4444444444444444,
              "#bd3786"
             ],
             [
              0.5555555555555556,
              "#d8576b"
             ],
             [
              0.6666666666666666,
              "#ed7953"
             ],
             [
              0.7777777777777778,
              "#fb9f3a"
             ],
             [
              0.8888888888888888,
              "#fdca26"
             ],
             [
              1,
              "#f0f921"
             ]
            ],
            "type": "surface"
           }
          ],
          "table": [
           {
            "cells": {
             "fill": {
              "color": "#EBF0F8"
             },
             "line": {
              "color": "white"
             }
            },
            "header": {
             "fill": {
              "color": "#C8D4E3"
             },
             "line": {
              "color": "white"
             }
            },
            "type": "table"
           }
          ]
         },
         "layout": {
          "annotationdefaults": {
           "arrowcolor": "#2a3f5f",
           "arrowhead": 0,
           "arrowwidth": 1
          },
          "autotypenumbers": "strict",
          "coloraxis": {
           "colorbar": {
            "outlinewidth": 0,
            "ticks": ""
           }
          },
          "colorscale": {
           "diverging": [
            [
             0,
             "#8e0152"
            ],
            [
             0.1,
             "#c51b7d"
            ],
            [
             0.2,
             "#de77ae"
            ],
            [
             0.3,
             "#f1b6da"
            ],
            [
             0.4,
             "#fde0ef"
            ],
            [
             0.5,
             "#f7f7f7"
            ],
            [
             0.6,
             "#e6f5d0"
            ],
            [
             0.7,
             "#b8e186"
            ],
            [
             0.8,
             "#7fbc41"
            ],
            [
             0.9,
             "#4d9221"
            ],
            [
             1,
             "#276419"
            ]
           ],
           "sequential": [
            [
             0,
             "#0d0887"
            ],
            [
             0.1111111111111111,
             "#46039f"
            ],
            [
             0.2222222222222222,
             "#7201a8"
            ],
            [
             0.3333333333333333,
             "#9c179e"
            ],
            [
             0.4444444444444444,
             "#bd3786"
            ],
            [
             0.5555555555555556,
             "#d8576b"
            ],
            [
             0.6666666666666666,
             "#ed7953"
            ],
            [
             0.7777777777777778,
             "#fb9f3a"
            ],
            [
             0.8888888888888888,
             "#fdca26"
            ],
            [
             1,
             "#f0f921"
            ]
           ],
           "sequentialminus": [
            [
             0,
             "#0d0887"
            ],
            [
             0.1111111111111111,
             "#46039f"
            ],
            [
             0.2222222222222222,
             "#7201a8"
            ],
            [
             0.3333333333333333,
             "#9c179e"
            ],
            [
             0.4444444444444444,
             "#bd3786"
            ],
            [
             0.5555555555555556,
             "#d8576b"
            ],
            [
             0.6666666666666666,
             "#ed7953"
            ],
            [
             0.7777777777777778,
             "#fb9f3a"
            ],
            [
             0.8888888888888888,
             "#fdca26"
            ],
            [
             1,
             "#f0f921"
            ]
           ]
          },
          "colorway": [
           "#636efa",
           "#EF553B",
           "#00cc96",
           "#ab63fa",
           "#FFA15A",
           "#19d3f3",
           "#FF6692",
           "#B6E880",
           "#FF97FF",
           "#FECB52"
          ],
          "font": {
           "color": "#2a3f5f"
          },
          "geo": {
           "bgcolor": "white",
           "lakecolor": "white",
           "landcolor": "#E5ECF6",
           "showlakes": true,
           "showland": true,
           "subunitcolor": "white"
          },
          "hoverlabel": {
           "align": "left"
          },
          "hovermode": "closest",
          "mapbox": {
           "style": "light"
          },
          "paper_bgcolor": "white",
          "plot_bgcolor": "#E5ECF6",
          "polar": {
           "angularaxis": {
            "gridcolor": "white",
            "linecolor": "white",
            "ticks": ""
           },
           "bgcolor": "#E5ECF6",
           "radialaxis": {
            "gridcolor": "white",
            "linecolor": "white",
            "ticks": ""
           }
          },
          "scene": {
           "xaxis": {
            "backgroundcolor": "#E5ECF6",
            "gridcolor": "white",
            "gridwidth": 2,
            "linecolor": "white",
            "showbackground": true,
            "ticks": "",
            "zerolinecolor": "white"
           },
           "yaxis": {
            "backgroundcolor": "#E5ECF6",
            "gridcolor": "white",
            "gridwidth": 2,
            "linecolor": "white",
            "showbackground": true,
            "ticks": "",
            "zerolinecolor": "white"
           },
           "zaxis": {
            "backgroundcolor": "#E5ECF6",
            "gridcolor": "white",
            "gridwidth": 2,
            "linecolor": "white",
            "showbackground": true,
            "ticks": "",
            "zerolinecolor": "white"
           }
          },
          "shapedefaults": {
           "line": {
            "color": "#2a3f5f"
           }
          },
          "ternary": {
           "aaxis": {
            "gridcolor": "white",
            "linecolor": "white",
            "ticks": ""
           },
           "baxis": {
            "gridcolor": "white",
            "linecolor": "white",
            "ticks": ""
           },
           "bgcolor": "#E5ECF6",
           "caxis": {
            "gridcolor": "white",
            "linecolor": "white",
            "ticks": ""
           }
          },
          "title": {
           "x": 0.05
          },
          "xaxis": {
           "automargin": true,
           "gridcolor": "white",
           "linecolor": "white",
           "ticks": "",
           "title": {
            "standoff": 15
           },
           "zerolinecolor": "white",
           "zerolinewidth": 2
          },
          "yaxis": {
           "automargin": true,
           "gridcolor": "white",
           "linecolor": "white",
           "ticks": "",
           "title": {
            "standoff": 15
           },
           "zerolinecolor": "white",
           "zerolinewidth": 2
          }
         }
        },
        "title": {
         "text": "Forecast Harga Tiket 7 Hari ke 10 Tujuan Terpopuler dari Jakarta"
        },
        "width": 1000,
        "xaxis": {
         "anchor": "y",
         "domain": [
          0,
          0.45
         ]
        },
        "xaxis10": {
         "anchor": "y10",
         "domain": [
          0.55,
          1
         ]
        },
        "xaxis2": {
         "anchor": "y2",
         "domain": [
          0.55,
          1
         ]
        },
        "xaxis3": {
         "anchor": "y3",
         "domain": [
          0,
          0.45
         ]
        },
        "xaxis4": {
         "anchor": "y4",
         "domain": [
          0.55,
          1
         ]
        },
        "xaxis5": {
         "anchor": "y5",
         "domain": [
          0,
          0.45
         ]
        },
        "xaxis6": {
         "anchor": "y6",
         "domain": [
          0.55,
          1
         ]
        },
        "xaxis7": {
         "anchor": "y7",
         "domain": [
          0,
          0.45
         ]
        },
        "xaxis8": {
         "anchor": "y8",
         "domain": [
          0.55,
          1
         ]
        },
        "xaxis9": {
         "anchor": "y9",
         "domain": [
          0,
          0.45
         ]
        },
        "yaxis": {
         "anchor": "x",
         "domain": [
          0.88,
          1
         ]
        },
        "yaxis10": {
         "anchor": "x10",
         "domain": [
          0,
          0.12
         ]
        },
        "yaxis2": {
         "anchor": "x2",
         "domain": [
          0.88,
          1
         ]
        },
        "yaxis3": {
         "anchor": "x3",
         "domain": [
          0.66,
          0.78
         ]
        },
        "yaxis4": {
         "anchor": "x4",
         "domain": [
          0.66,
          0.78
         ]
        },
        "yaxis5": {
         "anchor": "x5",
         "domain": [
          0.44,
          0.56
         ]
        },
        "yaxis6": {
         "anchor": "x6",
         "domain": [
          0.44,
          0.56
         ]
        },
        "yaxis7": {
         "anchor": "x7",
         "domain": [
          0.22,
          0.33999999999999997
         ]
        },
        "yaxis8": {
         "anchor": "x8",
         "domain": [
          0.22,
          0.33999999999999997
         ]
        },
        "yaxis9": {
         "anchor": "x9",
         "domain": [
          0,
          0.12
         ]
        }
       }
      }
     },
     "metadata": {},
     "output_type": "display_data"
    },
    {
     "name": "stdout",
     "output_type": "stream",
     "text": [
      "\n",
      "=== Forecast Harga Tiket 7 Hari ke Depan untuk Tujuan JOG ===\n"
     ]
    },
    {
     "data": {
      "text/html": [
       "<div>\n",
       "<style scoped>\n",
       "    .dataframe tbody tr th:only-of-type {\n",
       "        vertical-align: middle;\n",
       "    }\n",
       "\n",
       "    .dataframe tbody tr th {\n",
       "        vertical-align: top;\n",
       "    }\n",
       "\n",
       "    .dataframe thead th {\n",
       "        text-align: right;\n",
       "    }\n",
       "</style>\n",
       "<table border=\"1\" class=\"dataframe\">\n",
       "  <thead>\n",
       "    <tr style=\"text-align: right;\">\n",
       "      <th></th>\n",
       "      <th>ds</th>\n",
       "      <th>yhat</th>\n",
       "      <th>yhat_lower</th>\n",
       "      <th>yhat_upper</th>\n",
       "    </tr>\n",
       "  </thead>\n",
       "  <tbody>\n",
       "    <tr>\n",
       "      <th>35</th>\n",
       "      <td>2024-02-28</td>\n",
       "      <td>1179271.74</td>\n",
       "      <td>1118539.60</td>\n",
       "      <td>1238079.93</td>\n",
       "    </tr>\n",
       "    <tr>\n",
       "      <th>36</th>\n",
       "      <td>2024-02-29</td>\n",
       "      <td>1159670.18</td>\n",
       "      <td>1103113.89</td>\n",
       "      <td>1220507.75</td>\n",
       "    </tr>\n",
       "    <tr>\n",
       "      <th>37</th>\n",
       "      <td>2024-03-01</td>\n",
       "      <td>1168128.86</td>\n",
       "      <td>1108173.49</td>\n",
       "      <td>1228710.20</td>\n",
       "    </tr>\n",
       "    <tr>\n",
       "      <th>38</th>\n",
       "      <td>2024-03-02</td>\n",
       "      <td>1157739.38</td>\n",
       "      <td>1094830.40</td>\n",
       "      <td>1212627.42</td>\n",
       "    </tr>\n",
       "    <tr>\n",
       "      <th>39</th>\n",
       "      <td>2024-03-03</td>\n",
       "      <td>1173640.67</td>\n",
       "      <td>1114295.25</td>\n",
       "      <td>1233812.66</td>\n",
       "    </tr>\n",
       "    <tr>\n",
       "      <th>40</th>\n",
       "      <td>2024-03-04</td>\n",
       "      <td>1168617.95</td>\n",
       "      <td>1110432.00</td>\n",
       "      <td>1229040.25</td>\n",
       "    </tr>\n",
       "    <tr>\n",
       "      <th>41</th>\n",
       "      <td>2024-03-05</td>\n",
       "      <td>1157828.56</td>\n",
       "      <td>1097501.72</td>\n",
       "      <td>1215740.01</td>\n",
       "    </tr>\n",
       "  </tbody>\n",
       "</table>\n",
       "</div>"
      ],
      "text/plain": [
       "           ds        yhat  yhat_lower  yhat_upper\n",
       "35 2024-02-28  1179271.74  1118539.60  1238079.93\n",
       "36 2024-02-29  1159670.18  1103113.89  1220507.75\n",
       "37 2024-03-01  1168128.86  1108173.49  1228710.20\n",
       "38 2024-03-02  1157739.38  1094830.40  1212627.42\n",
       "39 2024-03-03  1173640.67  1114295.25  1233812.66\n",
       "40 2024-03-04  1168617.95  1110432.00  1229040.25\n",
       "41 2024-03-05  1157828.56  1097501.72  1215740.01"
      ]
     },
     "metadata": {},
     "output_type": "display_data"
    },
    {
     "name": "stdout",
     "output_type": "stream",
     "text": [
      "\n",
      "=== Forecast Harga Tiket 7 Hari ke Depan untuk Tujuan YIA ===\n"
     ]
    },
    {
     "data": {
      "text/html": [
       "<div>\n",
       "<style scoped>\n",
       "    .dataframe tbody tr th:only-of-type {\n",
       "        vertical-align: middle;\n",
       "    }\n",
       "\n",
       "    .dataframe tbody tr th {\n",
       "        vertical-align: top;\n",
       "    }\n",
       "\n",
       "    .dataframe thead th {\n",
       "        text-align: right;\n",
       "    }\n",
       "</style>\n",
       "<table border=\"1\" class=\"dataframe\">\n",
       "  <thead>\n",
       "    <tr style=\"text-align: right;\">\n",
       "      <th></th>\n",
       "      <th>ds</th>\n",
       "      <th>yhat</th>\n",
       "      <th>yhat_lower</th>\n",
       "      <th>yhat_upper</th>\n",
       "    </tr>\n",
       "  </thead>\n",
       "  <tbody>\n",
       "    <tr>\n",
       "      <th>42</th>\n",
       "      <td>2024-03-14</td>\n",
       "      <td>351708.67</td>\n",
       "      <td>277639.74</td>\n",
       "      <td>425197.85</td>\n",
       "    </tr>\n",
       "    <tr>\n",
       "      <th>43</th>\n",
       "      <td>2024-03-15</td>\n",
       "      <td>390192.01</td>\n",
       "      <td>313971.72</td>\n",
       "      <td>462513.42</td>\n",
       "    </tr>\n",
       "    <tr>\n",
       "      <th>44</th>\n",
       "      <td>2024-03-16</td>\n",
       "      <td>346384.65</td>\n",
       "      <td>273017.69</td>\n",
       "      <td>423782.39</td>\n",
       "    </tr>\n",
       "    <tr>\n",
       "      <th>45</th>\n",
       "      <td>2024-03-17</td>\n",
       "      <td>353544.88</td>\n",
       "      <td>279397.89</td>\n",
       "      <td>431262.32</td>\n",
       "    </tr>\n",
       "    <tr>\n",
       "      <th>46</th>\n",
       "      <td>2024-03-18</td>\n",
       "      <td>346536.35</td>\n",
       "      <td>272033.99</td>\n",
       "      <td>418544.10</td>\n",
       "    </tr>\n",
       "    <tr>\n",
       "      <th>47</th>\n",
       "      <td>2024-03-19</td>\n",
       "      <td>346310.46</td>\n",
       "      <td>268516.78</td>\n",
       "      <td>419654.14</td>\n",
       "    </tr>\n",
       "    <tr>\n",
       "      <th>48</th>\n",
       "      <td>2024-03-20</td>\n",
       "      <td>348531.61</td>\n",
       "      <td>272582.40</td>\n",
       "      <td>419873.76</td>\n",
       "    </tr>\n",
       "  </tbody>\n",
       "</table>\n",
       "</div>"
      ],
      "text/plain": [
       "           ds       yhat  yhat_lower  yhat_upper\n",
       "42 2024-03-14  351708.67   277639.74   425197.85\n",
       "43 2024-03-15  390192.01   313971.72   462513.42\n",
       "44 2024-03-16  346384.65   273017.69   423782.39\n",
       "45 2024-03-17  353544.88   279397.89   431262.32\n",
       "46 2024-03-18  346536.35   272033.99   418544.10\n",
       "47 2024-03-19  346310.46   268516.78   419654.14\n",
       "48 2024-03-20  348531.61   272582.40   419873.76"
      ]
     },
     "metadata": {},
     "output_type": "display_data"
    },
    {
     "name": "stdout",
     "output_type": "stream",
     "text": [
      "\n",
      "=== Forecast Harga Tiket 7 Hari ke Depan untuk Tujuan DPS ===\n"
     ]
    },
    {
     "data": {
      "text/html": [
       "<div>\n",
       "<style scoped>\n",
       "    .dataframe tbody tr th:only-of-type {\n",
       "        vertical-align: middle;\n",
       "    }\n",
       "\n",
       "    .dataframe tbody tr th {\n",
       "        vertical-align: top;\n",
       "    }\n",
       "\n",
       "    .dataframe thead th {\n",
       "        text-align: right;\n",
       "    }\n",
       "</style>\n",
       "<table border=\"1\" class=\"dataframe\">\n",
       "  <thead>\n",
       "    <tr style=\"text-align: right;\">\n",
       "      <th></th>\n",
       "      <th>ds</th>\n",
       "      <th>yhat</th>\n",
       "      <th>yhat_lower</th>\n",
       "      <th>yhat_upper</th>\n",
       "    </tr>\n",
       "  </thead>\n",
       "  <tbody>\n",
       "    <tr>\n",
       "      <th>168</th>\n",
       "      <td>2024-03-14</td>\n",
       "      <td>997107.59</td>\n",
       "      <td>927178.36</td>\n",
       "      <td>1068641.93</td>\n",
       "    </tr>\n",
       "    <tr>\n",
       "      <th>169</th>\n",
       "      <td>2024-03-15</td>\n",
       "      <td>1043647.12</td>\n",
       "      <td>968718.08</td>\n",
       "      <td>1112432.97</td>\n",
       "    </tr>\n",
       "    <tr>\n",
       "      <th>170</th>\n",
       "      <td>2024-03-16</td>\n",
       "      <td>996527.13</td>\n",
       "      <td>918903.70</td>\n",
       "      <td>1068074.13</td>\n",
       "    </tr>\n",
       "    <tr>\n",
       "      <th>171</th>\n",
       "      <td>2024-03-17</td>\n",
       "      <td>990236.13</td>\n",
       "      <td>921167.80</td>\n",
       "      <td>1062693.99</td>\n",
       "    </tr>\n",
       "    <tr>\n",
       "      <th>172</th>\n",
       "      <td>2024-03-18</td>\n",
       "      <td>991200.09</td>\n",
       "      <td>922994.05</td>\n",
       "      <td>1063041.69</td>\n",
       "    </tr>\n",
       "    <tr>\n",
       "      <th>173</th>\n",
       "      <td>2024-03-19</td>\n",
       "      <td>991835.44</td>\n",
       "      <td>919373.55</td>\n",
       "      <td>1059918.61</td>\n",
       "    </tr>\n",
       "    <tr>\n",
       "      <th>174</th>\n",
       "      <td>2024-03-20</td>\n",
       "      <td>1011227.01</td>\n",
       "      <td>944775.47</td>\n",
       "      <td>1084234.81</td>\n",
       "    </tr>\n",
       "  </tbody>\n",
       "</table>\n",
       "</div>"
      ],
      "text/plain": [
       "            ds        yhat  yhat_lower  yhat_upper\n",
       "168 2024-03-14   997107.59   927178.36  1068641.93\n",
       "169 2024-03-15  1043647.12   968718.08  1112432.97\n",
       "170 2024-03-16   996527.13   918903.70  1068074.13\n",
       "171 2024-03-17   990236.13   921167.80  1062693.99\n",
       "172 2024-03-18   991200.09   922994.05  1063041.69\n",
       "173 2024-03-19   991835.44   919373.55  1059918.61\n",
       "174 2024-03-20  1011227.01   944775.47  1084234.81"
      ]
     },
     "metadata": {},
     "output_type": "display_data"
    },
    {
     "name": "stdout",
     "output_type": "stream",
     "text": [
      "\n",
      "=== Forecast Harga Tiket 7 Hari ke Depan untuk Tujuan BPN ===\n"
     ]
    },
    {
     "data": {
      "text/html": [
       "<div>\n",
       "<style scoped>\n",
       "    .dataframe tbody tr th:only-of-type {\n",
       "        vertical-align: middle;\n",
       "    }\n",
       "\n",
       "    .dataframe tbody tr th {\n",
       "        vertical-align: top;\n",
       "    }\n",
       "\n",
       "    .dataframe thead th {\n",
       "        text-align: right;\n",
       "    }\n",
       "</style>\n",
       "<table border=\"1\" class=\"dataframe\">\n",
       "  <thead>\n",
       "    <tr style=\"text-align: right;\">\n",
       "      <th></th>\n",
       "      <th>ds</th>\n",
       "      <th>yhat</th>\n",
       "      <th>yhat_lower</th>\n",
       "      <th>yhat_upper</th>\n",
       "    </tr>\n",
       "  </thead>\n",
       "  <tbody>\n",
       "    <tr>\n",
       "      <th>126</th>\n",
       "      <td>2023-07-27</td>\n",
       "      <td>1321373.50</td>\n",
       "      <td>1055268.14</td>\n",
       "      <td>1580222.97</td>\n",
       "    </tr>\n",
       "    <tr>\n",
       "      <th>127</th>\n",
       "      <td>2023-07-28</td>\n",
       "      <td>1302354.81</td>\n",
       "      <td>1054546.32</td>\n",
       "      <td>1539998.90</td>\n",
       "    </tr>\n",
       "    <tr>\n",
       "      <th>128</th>\n",
       "      <td>2023-07-29</td>\n",
       "      <td>1359291.64</td>\n",
       "      <td>1107757.47</td>\n",
       "      <td>1622775.09</td>\n",
       "    </tr>\n",
       "    <tr>\n",
       "      <th>129</th>\n",
       "      <td>2023-07-30</td>\n",
       "      <td>1350986.72</td>\n",
       "      <td>1089477.55</td>\n",
       "      <td>1625862.09</td>\n",
       "    </tr>\n",
       "    <tr>\n",
       "      <th>130</th>\n",
       "      <td>2023-07-31</td>\n",
       "      <td>1338801.10</td>\n",
       "      <td>1070206.97</td>\n",
       "      <td>1585406.54</td>\n",
       "    </tr>\n",
       "    <tr>\n",
       "      <th>131</th>\n",
       "      <td>2023-08-01</td>\n",
       "      <td>1343531.05</td>\n",
       "      <td>1100338.19</td>\n",
       "      <td>1610106.88</td>\n",
       "    </tr>\n",
       "    <tr>\n",
       "      <th>132</th>\n",
       "      <td>2023-08-02</td>\n",
       "      <td>1347090.59</td>\n",
       "      <td>1100660.44</td>\n",
       "      <td>1578414.01</td>\n",
       "    </tr>\n",
       "  </tbody>\n",
       "</table>\n",
       "</div>"
      ],
      "text/plain": [
       "            ds        yhat  yhat_lower  yhat_upper\n",
       "126 2023-07-27  1321373.50  1055268.14  1580222.97\n",
       "127 2023-07-28  1302354.81  1054546.32  1539998.90\n",
       "128 2023-07-29  1359291.64  1107757.47  1622775.09\n",
       "129 2023-07-30  1350986.72  1089477.55  1625862.09\n",
       "130 2023-07-31  1338801.10  1070206.97  1585406.54\n",
       "131 2023-08-01  1343531.05  1100338.19  1610106.88\n",
       "132 2023-08-02  1347090.59  1100660.44  1578414.01"
      ]
     },
     "metadata": {},
     "output_type": "display_data"
    },
    {
     "name": "stdout",
     "output_type": "stream",
     "text": [
      "\n",
      "=== Forecast Harga Tiket 7 Hari ke Depan untuk Tujuan LOP ===\n"
     ]
    },
    {
     "data": {
      "text/html": [
       "<div>\n",
       "<style scoped>\n",
       "    .dataframe tbody tr th:only-of-type {\n",
       "        vertical-align: middle;\n",
       "    }\n",
       "\n",
       "    .dataframe tbody tr th {\n",
       "        vertical-align: top;\n",
       "    }\n",
       "\n",
       "    .dataframe thead th {\n",
       "        text-align: right;\n",
       "    }\n",
       "</style>\n",
       "<table border=\"1\" class=\"dataframe\">\n",
       "  <thead>\n",
       "    <tr style=\"text-align: right;\">\n",
       "      <th></th>\n",
       "      <th>ds</th>\n",
       "      <th>yhat</th>\n",
       "      <th>yhat_lower</th>\n",
       "      <th>yhat_upper</th>\n",
       "    </tr>\n",
       "  </thead>\n",
       "  <tbody>\n",
       "    <tr>\n",
       "      <th>175</th>\n",
       "      <td>2023-07-27</td>\n",
       "      <td>1051443.32</td>\n",
       "      <td>958332.95</td>\n",
       "      <td>1151141.10</td>\n",
       "    </tr>\n",
       "    <tr>\n",
       "      <th>176</th>\n",
       "      <td>2023-07-28</td>\n",
       "      <td>1079552.61</td>\n",
       "      <td>981055.99</td>\n",
       "      <td>1168129.41</td>\n",
       "    </tr>\n",
       "    <tr>\n",
       "      <th>177</th>\n",
       "      <td>2023-07-29</td>\n",
       "      <td>1052344.02</td>\n",
       "      <td>955249.55</td>\n",
       "      <td>1147863.83</td>\n",
       "    </tr>\n",
       "    <tr>\n",
       "      <th>178</th>\n",
       "      <td>2023-07-30</td>\n",
       "      <td>1091221.28</td>\n",
       "      <td>992504.06</td>\n",
       "      <td>1187712.78</td>\n",
       "    </tr>\n",
       "    <tr>\n",
       "      <th>179</th>\n",
       "      <td>2023-07-31</td>\n",
       "      <td>1095435.23</td>\n",
       "      <td>1001810.43</td>\n",
       "      <td>1192486.80</td>\n",
       "    </tr>\n",
       "    <tr>\n",
       "      <th>180</th>\n",
       "      <td>2023-08-01</td>\n",
       "      <td>1059018.91</td>\n",
       "      <td>959298.53</td>\n",
       "      <td>1150561.31</td>\n",
       "    </tr>\n",
       "    <tr>\n",
       "      <th>181</th>\n",
       "      <td>2023-08-02</td>\n",
       "      <td>1095612.28</td>\n",
       "      <td>999193.04</td>\n",
       "      <td>1188014.90</td>\n",
       "    </tr>\n",
       "  </tbody>\n",
       "</table>\n",
       "</div>"
      ],
      "text/plain": [
       "            ds        yhat  yhat_lower  yhat_upper\n",
       "175 2023-07-27  1051443.32   958332.95  1151141.10\n",
       "176 2023-07-28  1079552.61   981055.99  1168129.41\n",
       "177 2023-07-29  1052344.02   955249.55  1147863.83\n",
       "178 2023-07-30  1091221.28   992504.06  1187712.78\n",
       "179 2023-07-31  1095435.23  1001810.43  1192486.80\n",
       "180 2023-08-01  1059018.91   959298.53  1150561.31\n",
       "181 2023-08-02  1095612.28   999193.04  1188014.90"
      ]
     },
     "metadata": {},
     "output_type": "display_data"
    },
    {
     "name": "stdout",
     "output_type": "stream",
     "text": [
      "\n",
      "=== Forecast Harga Tiket 7 Hari ke Depan untuk Tujuan SUB ===\n"
     ]
    },
    {
     "data": {
      "text/html": [
       "<div>\n",
       "<style scoped>\n",
       "    .dataframe tbody tr th:only-of-type {\n",
       "        vertical-align: middle;\n",
       "    }\n",
       "\n",
       "    .dataframe tbody tr th {\n",
       "        vertical-align: top;\n",
       "    }\n",
       "\n",
       "    .dataframe thead th {\n",
       "        text-align: right;\n",
       "    }\n",
       "</style>\n",
       "<table border=\"1\" class=\"dataframe\">\n",
       "  <thead>\n",
       "    <tr style=\"text-align: right;\">\n",
       "      <th></th>\n",
       "      <th>ds</th>\n",
       "      <th>yhat</th>\n",
       "      <th>yhat_lower</th>\n",
       "      <th>yhat_upper</th>\n",
       "    </tr>\n",
       "  </thead>\n",
       "  <tbody>\n",
       "    <tr>\n",
       "      <th>28</th>\n",
       "      <td>2023-07-26</td>\n",
       "      <td>738906.53</td>\n",
       "      <td>684222.90</td>\n",
       "      <td>792265.24</td>\n",
       "    </tr>\n",
       "    <tr>\n",
       "      <th>29</th>\n",
       "      <td>2023-07-27</td>\n",
       "      <td>739645.16</td>\n",
       "      <td>686972.59</td>\n",
       "      <td>795006.52</td>\n",
       "    </tr>\n",
       "    <tr>\n",
       "      <th>30</th>\n",
       "      <td>2023-07-28</td>\n",
       "      <td>742183.67</td>\n",
       "      <td>690587.48</td>\n",
       "      <td>794789.49</td>\n",
       "    </tr>\n",
       "    <tr>\n",
       "      <th>31</th>\n",
       "      <td>2023-07-29</td>\n",
       "      <td>738858.47</td>\n",
       "      <td>689456.96</td>\n",
       "      <td>794949.73</td>\n",
       "    </tr>\n",
       "    <tr>\n",
       "      <th>32</th>\n",
       "      <td>2023-07-30</td>\n",
       "      <td>737643.34</td>\n",
       "      <td>686947.86</td>\n",
       "      <td>790826.48</td>\n",
       "    </tr>\n",
       "    <tr>\n",
       "      <th>33</th>\n",
       "      <td>2023-07-31</td>\n",
       "      <td>740522.56</td>\n",
       "      <td>689250.40</td>\n",
       "      <td>789067.98</td>\n",
       "    </tr>\n",
       "    <tr>\n",
       "      <th>34</th>\n",
       "      <td>2023-08-01</td>\n",
       "      <td>738623.89</td>\n",
       "      <td>687370.37</td>\n",
       "      <td>791606.29</td>\n",
       "    </tr>\n",
       "  </tbody>\n",
       "</table>\n",
       "</div>"
      ],
      "text/plain": [
       "           ds       yhat  yhat_lower  yhat_upper\n",
       "28 2023-07-26  738906.53   684222.90   792265.24\n",
       "29 2023-07-27  739645.16   686972.59   795006.52\n",
       "30 2023-07-28  742183.67   690587.48   794789.49\n",
       "31 2023-07-29  738858.47   689456.96   794949.73\n",
       "32 2023-07-30  737643.34   686947.86   790826.48\n",
       "33 2023-07-31  740522.56   689250.40   789067.98\n",
       "34 2023-08-01  738623.89   687370.37   791606.29"
      ]
     },
     "metadata": {},
     "output_type": "display_data"
    },
    {
     "name": "stdout",
     "output_type": "stream",
     "text": [
      "\n",
      "=== Forecast Harga Tiket 7 Hari ke Depan untuk Tujuan UPG ===\n"
     ]
    },
    {
     "data": {
      "text/html": [
       "<div>\n",
       "<style scoped>\n",
       "    .dataframe tbody tr th:only-of-type {\n",
       "        vertical-align: middle;\n",
       "    }\n",
       "\n",
       "    .dataframe tbody tr th {\n",
       "        vertical-align: top;\n",
       "    }\n",
       "\n",
       "    .dataframe thead th {\n",
       "        text-align: right;\n",
       "    }\n",
       "</style>\n",
       "<table border=\"1\" class=\"dataframe\">\n",
       "  <thead>\n",
       "    <tr style=\"text-align: right;\">\n",
       "      <th></th>\n",
       "      <th>ds</th>\n",
       "      <th>yhat</th>\n",
       "      <th>yhat_lower</th>\n",
       "      <th>yhat_upper</th>\n",
       "    </tr>\n",
       "  </thead>\n",
       "  <tbody>\n",
       "    <tr>\n",
       "      <th>154</th>\n",
       "      <td>2023-07-26</td>\n",
       "      <td>1623868.30</td>\n",
       "      <td>1444161.62</td>\n",
       "      <td>1804777.64</td>\n",
       "    </tr>\n",
       "    <tr>\n",
       "      <th>155</th>\n",
       "      <td>2023-07-27</td>\n",
       "      <td>1589226.99</td>\n",
       "      <td>1415761.01</td>\n",
       "      <td>1774475.27</td>\n",
       "    </tr>\n",
       "    <tr>\n",
       "      <th>156</th>\n",
       "      <td>2023-07-28</td>\n",
       "      <td>1607622.88</td>\n",
       "      <td>1422700.84</td>\n",
       "      <td>1786715.30</td>\n",
       "    </tr>\n",
       "    <tr>\n",
       "      <th>157</th>\n",
       "      <td>2023-07-29</td>\n",
       "      <td>1585584.23</td>\n",
       "      <td>1410445.21</td>\n",
       "      <td>1767540.33</td>\n",
       "    </tr>\n",
       "    <tr>\n",
       "      <th>158</th>\n",
       "      <td>2023-07-30</td>\n",
       "      <td>1585136.53</td>\n",
       "      <td>1405520.99</td>\n",
       "      <td>1769128.49</td>\n",
       "    </tr>\n",
       "    <tr>\n",
       "      <th>159</th>\n",
       "      <td>2023-07-31</td>\n",
       "      <td>1583501.78</td>\n",
       "      <td>1398990.50</td>\n",
       "      <td>1753203.37</td>\n",
       "    </tr>\n",
       "    <tr>\n",
       "      <th>160</th>\n",
       "      <td>2023-08-01</td>\n",
       "      <td>1643045.71</td>\n",
       "      <td>1456176.20</td>\n",
       "      <td>1827320.26</td>\n",
       "    </tr>\n",
       "  </tbody>\n",
       "</table>\n",
       "</div>"
      ],
      "text/plain": [
       "            ds        yhat  yhat_lower  yhat_upper\n",
       "154 2023-07-26  1623868.30  1444161.62  1804777.64\n",
       "155 2023-07-27  1589226.99  1415761.01  1774475.27\n",
       "156 2023-07-28  1607622.88  1422700.84  1786715.30\n",
       "157 2023-07-29  1585584.23  1410445.21  1767540.33\n",
       "158 2023-07-30  1585136.53  1405520.99  1769128.49\n",
       "159 2023-07-31  1583501.78  1398990.50  1753203.37\n",
       "160 2023-08-01  1643045.71  1456176.20  1827320.26"
      ]
     },
     "metadata": {},
     "output_type": "display_data"
    },
    {
     "name": "stdout",
     "output_type": "stream",
     "text": [
      "\n",
      "=== Forecast Harga Tiket 7 Hari ke Depan untuk Tujuan KNO ===\n"
     ]
    },
    {
     "data": {
      "text/html": [
       "<div>\n",
       "<style scoped>\n",
       "    .dataframe tbody tr th:only-of-type {\n",
       "        vertical-align: middle;\n",
       "    }\n",
       "\n",
       "    .dataframe tbody tr th {\n",
       "        vertical-align: top;\n",
       "    }\n",
       "\n",
       "    .dataframe thead th {\n",
       "        text-align: right;\n",
       "    }\n",
       "</style>\n",
       "<table border=\"1\" class=\"dataframe\">\n",
       "  <thead>\n",
       "    <tr style=\"text-align: right;\">\n",
       "      <th></th>\n",
       "      <th>ds</th>\n",
       "      <th>yhat</th>\n",
       "      <th>yhat_lower</th>\n",
       "      <th>yhat_upper</th>\n",
       "    </tr>\n",
       "  </thead>\n",
       "  <tbody>\n",
       "    <tr>\n",
       "      <th>84</th>\n",
       "      <td>2023-07-26</td>\n",
       "      <td>865332.01</td>\n",
       "      <td>770176.62</td>\n",
       "      <td>958272.54</td>\n",
       "    </tr>\n",
       "    <tr>\n",
       "      <th>85</th>\n",
       "      <td>2023-07-27</td>\n",
       "      <td>850592.47</td>\n",
       "      <td>752843.04</td>\n",
       "      <td>942092.73</td>\n",
       "    </tr>\n",
       "    <tr>\n",
       "      <th>86</th>\n",
       "      <td>2023-07-28</td>\n",
       "      <td>867611.86</td>\n",
       "      <td>767520.34</td>\n",
       "      <td>964668.00</td>\n",
       "    </tr>\n",
       "    <tr>\n",
       "      <th>87</th>\n",
       "      <td>2023-07-29</td>\n",
       "      <td>845355.73</td>\n",
       "      <td>746236.86</td>\n",
       "      <td>946665.68</td>\n",
       "    </tr>\n",
       "    <tr>\n",
       "      <th>88</th>\n",
       "      <td>2023-07-30</td>\n",
       "      <td>858474.01</td>\n",
       "      <td>755700.26</td>\n",
       "      <td>959384.21</td>\n",
       "    </tr>\n",
       "    <tr>\n",
       "      <th>89</th>\n",
       "      <td>2023-07-31</td>\n",
       "      <td>852878.21</td>\n",
       "      <td>751773.58</td>\n",
       "      <td>943688.01</td>\n",
       "    </tr>\n",
       "    <tr>\n",
       "      <th>90</th>\n",
       "      <td>2023-08-01</td>\n",
       "      <td>839715.03</td>\n",
       "      <td>744487.47</td>\n",
       "      <td>932558.00</td>\n",
       "    </tr>\n",
       "  </tbody>\n",
       "</table>\n",
       "</div>"
      ],
      "text/plain": [
       "           ds       yhat  yhat_lower  yhat_upper\n",
       "84 2023-07-26  865332.01   770176.62   958272.54\n",
       "85 2023-07-27  850592.47   752843.04   942092.73\n",
       "86 2023-07-28  867611.86   767520.34   964668.00\n",
       "87 2023-07-29  845355.73   746236.86   946665.68\n",
       "88 2023-07-30  858474.01   755700.26   959384.21\n",
       "89 2023-07-31  852878.21   751773.58   943688.01\n",
       "90 2023-08-01  839715.03   744487.47   932558.00"
      ]
     },
     "metadata": {},
     "output_type": "display_data"
    },
    {
     "name": "stdout",
     "output_type": "stream",
     "text": [
      "\n",
      "=== Forecast Harga Tiket 7 Hari ke Depan untuk Tujuan BDJ ===\n"
     ]
    },
    {
     "data": {
      "text/html": [
       "<div>\n",
       "<style scoped>\n",
       "    .dataframe tbody tr th:only-of-type {\n",
       "        vertical-align: middle;\n",
       "    }\n",
       "\n",
       "    .dataframe tbody tr th {\n",
       "        vertical-align: top;\n",
       "    }\n",
       "\n",
       "    .dataframe thead th {\n",
       "        text-align: right;\n",
       "    }\n",
       "</style>\n",
       "<table border=\"1\" class=\"dataframe\">\n",
       "  <thead>\n",
       "    <tr style=\"text-align: right;\">\n",
       "      <th></th>\n",
       "      <th>ds</th>\n",
       "      <th>yhat</th>\n",
       "      <th>yhat_lower</th>\n",
       "      <th>yhat_upper</th>\n",
       "    </tr>\n",
       "  </thead>\n",
       "  <tbody>\n",
       "    <tr>\n",
       "      <th>133</th>\n",
       "      <td>2023-07-25</td>\n",
       "      <td>1087126.75</td>\n",
       "      <td>880068.86</td>\n",
       "      <td>1274123.32</td>\n",
       "    </tr>\n",
       "    <tr>\n",
       "      <th>134</th>\n",
       "      <td>2023-07-26</td>\n",
       "      <td>1117414.91</td>\n",
       "      <td>932186.71</td>\n",
       "      <td>1316072.95</td>\n",
       "    </tr>\n",
       "    <tr>\n",
       "      <th>135</th>\n",
       "      <td>2023-07-27</td>\n",
       "      <td>1113550.39</td>\n",
       "      <td>934996.03</td>\n",
       "      <td>1300570.96</td>\n",
       "    </tr>\n",
       "    <tr>\n",
       "      <th>136</th>\n",
       "      <td>2023-07-28</td>\n",
       "      <td>1104127.51</td>\n",
       "      <td>910145.67</td>\n",
       "      <td>1286472.27</td>\n",
       "    </tr>\n",
       "    <tr>\n",
       "      <th>137</th>\n",
       "      <td>2023-07-29</td>\n",
       "      <td>1111608.44</td>\n",
       "      <td>938283.13</td>\n",
       "      <td>1296759.72</td>\n",
       "    </tr>\n",
       "    <tr>\n",
       "      <th>138</th>\n",
       "      <td>2023-07-30</td>\n",
       "      <td>1121920.69</td>\n",
       "      <td>918683.97</td>\n",
       "      <td>1306655.39</td>\n",
       "    </tr>\n",
       "    <tr>\n",
       "      <th>139</th>\n",
       "      <td>2023-07-31</td>\n",
       "      <td>1116139.49</td>\n",
       "      <td>927657.25</td>\n",
       "      <td>1318199.63</td>\n",
       "    </tr>\n",
       "  </tbody>\n",
       "</table>\n",
       "</div>"
      ],
      "text/plain": [
       "            ds        yhat  yhat_lower  yhat_upper\n",
       "133 2023-07-25  1087126.75   880068.86  1274123.32\n",
       "134 2023-07-26  1117414.91   932186.71  1316072.95\n",
       "135 2023-07-27  1113550.39   934996.03  1300570.96\n",
       "136 2023-07-28  1104127.51   910145.67  1286472.27\n",
       "137 2023-07-29  1111608.44   938283.13  1296759.72\n",
       "138 2023-07-30  1121920.69   918683.97  1306655.39\n",
       "139 2023-07-31  1116139.49   927657.25  1318199.63"
      ]
     },
     "metadata": {},
     "output_type": "display_data"
    },
    {
     "name": "stdout",
     "output_type": "stream",
     "text": [
      "\n",
      "=== Forecast Harga Tiket 7 Hari ke Depan untuk Tujuan MDC ===\n"
     ]
    },
    {
     "data": {
      "text/html": [
       "<div>\n",
       "<style scoped>\n",
       "    .dataframe tbody tr th:only-of-type {\n",
       "        vertical-align: middle;\n",
       "    }\n",
       "\n",
       "    .dataframe tbody tr th {\n",
       "        vertical-align: top;\n",
       "    }\n",
       "\n",
       "    .dataframe thead th {\n",
       "        text-align: right;\n",
       "    }\n",
       "</style>\n",
       "<table border=\"1\" class=\"dataframe\">\n",
       "  <thead>\n",
       "    <tr style=\"text-align: right;\">\n",
       "      <th></th>\n",
       "      <th>ds</th>\n",
       "      <th>yhat</th>\n",
       "      <th>yhat_lower</th>\n",
       "      <th>yhat_upper</th>\n",
       "    </tr>\n",
       "  </thead>\n",
       "  <tbody>\n",
       "    <tr>\n",
       "      <th>161</th>\n",
       "      <td>2023-07-25</td>\n",
       "      <td>2910602.18</td>\n",
       "      <td>2576172.48</td>\n",
       "      <td>3237442.63</td>\n",
       "    </tr>\n",
       "    <tr>\n",
       "      <th>162</th>\n",
       "      <td>2023-07-26</td>\n",
       "      <td>2887547.84</td>\n",
       "      <td>2566446.52</td>\n",
       "      <td>3210359.15</td>\n",
       "    </tr>\n",
       "    <tr>\n",
       "      <th>163</th>\n",
       "      <td>2023-07-27</td>\n",
       "      <td>2977425.46</td>\n",
       "      <td>2640793.81</td>\n",
       "      <td>3326760.55</td>\n",
       "    </tr>\n",
       "    <tr>\n",
       "      <th>164</th>\n",
       "      <td>2023-07-28</td>\n",
       "      <td>2941618.42</td>\n",
       "      <td>2573631.83</td>\n",
       "      <td>3286581.57</td>\n",
       "    </tr>\n",
       "    <tr>\n",
       "      <th>165</th>\n",
       "      <td>2023-07-29</td>\n",
       "      <td>2909778.40</td>\n",
       "      <td>2576363.67</td>\n",
       "      <td>3250918.49</td>\n",
       "    </tr>\n",
       "    <tr>\n",
       "      <th>166</th>\n",
       "      <td>2023-07-30</td>\n",
       "      <td>2885128.83</td>\n",
       "      <td>2534028.25</td>\n",
       "      <td>3240218.86</td>\n",
       "    </tr>\n",
       "    <tr>\n",
       "      <th>167</th>\n",
       "      <td>2023-07-31</td>\n",
       "      <td>2879023.51</td>\n",
       "      <td>2514155.05</td>\n",
       "      <td>3205144.90</td>\n",
       "    </tr>\n",
       "  </tbody>\n",
       "</table>\n",
       "</div>"
      ],
      "text/plain": [
       "            ds        yhat  yhat_lower  yhat_upper\n",
       "161 2023-07-25  2910602.18  2576172.48  3237442.63\n",
       "162 2023-07-26  2887547.84  2566446.52  3210359.15\n",
       "163 2023-07-27  2977425.46  2640793.81  3326760.55\n",
       "164 2023-07-28  2941618.42  2573631.83  3286581.57\n",
       "165 2023-07-29  2909778.40  2576363.67  3250918.49\n",
       "166 2023-07-30  2885128.83  2534028.25  3240218.86\n",
       "167 2023-07-31  2879023.51  2514155.05  3205144.90"
      ]
     },
     "metadata": {},
     "output_type": "display_data"
    },
    {
     "name": "stderr",
     "output_type": "stream",
     "text": [
      "19:11:22 - cmdstanpy - INFO - Chain [1] start processing\n",
      "19:11:23 - cmdstanpy - INFO - Chain [1] done processing\n",
      "19:11:23 - cmdstanpy - INFO - Chain [1] start processing\n",
      "19:11:23 - cmdstanpy - INFO - Chain [1] done processing\n",
      "19:11:24 - cmdstanpy - INFO - Chain [1] start processing\n",
      "19:11:24 - cmdstanpy - INFO - Chain [1] done processing\n",
      "19:11:24 - cmdstanpy - INFO - Chain [1] start processing\n",
      "19:11:25 - cmdstanpy - INFO - Chain [1] done processing\n",
      "19:11:25 - cmdstanpy - INFO - Chain [1] start processing\n",
      "19:11:26 - cmdstanpy - INFO - Chain [1] done processing\n",
      "19:11:26 - cmdstanpy - INFO - Chain [1] start processing\n",
      "19:11:27 - cmdstanpy - INFO - Chain [1] done processing\n",
      "19:11:27 - cmdstanpy - INFO - Chain [1] start processing\n",
      "19:11:27 - cmdstanpy - INFO - Chain [1] done processing\n",
      "19:11:28 - cmdstanpy - INFO - Chain [1] start processing\n",
      "19:11:28 - cmdstanpy - INFO - Chain [1] done processing\n",
      "19:11:28 - cmdstanpy - INFO - Chain [1] start processing\n",
      "19:11:29 - cmdstanpy - INFO - Chain [1] done processing\n",
      "19:11:29 - cmdstanpy - INFO - Chain [1] start processing\n",
      "19:11:29 - cmdstanpy - INFO - Chain [1] done processing\n",
      "19:11:30 - cmdstanpy - INFO - Chain [1] start processing\n",
      "19:11:30 - cmdstanpy - INFO - Chain [1] done processing\n",
      "19:11:30 - cmdstanpy - INFO - Chain [1] start processing\n",
      "19:11:31 - cmdstanpy - INFO - Chain [1] done processing\n",
      "19:11:31 - cmdstanpy - INFO - Chain [1] start processing\n",
      "19:11:31 - cmdstanpy - INFO - Chain [1] done processing\n",
      "19:11:32 - cmdstanpy - INFO - Chain [1] start processing\n",
      "19:11:32 - cmdstanpy - INFO - Chain [1] done processing\n",
      "19:11:32 - cmdstanpy - INFO - Chain [1] start processing\n",
      "19:11:32 - cmdstanpy - INFO - Chain [1] done processing\n",
      "19:11:33 - cmdstanpy - INFO - Chain [1] start processing\n",
      "19:11:33 - cmdstanpy - INFO - Chain [1] done processing\n",
      "19:11:34 - cmdstanpy - INFO - Chain [1] start processing\n",
      "19:11:34 - cmdstanpy - INFO - Chain [1] done processing\n",
      "19:11:35 - cmdstanpy - INFO - Chain [1] start processing\n",
      "19:11:35 - cmdstanpy - INFO - Chain [1] done processing\n",
      "19:11:36 - cmdstanpy - INFO - Chain [1] start processing\n",
      "19:11:36 - cmdstanpy - INFO - Chain [1] done processing\n",
      "19:11:37 - cmdstanpy - INFO - Chain [1] start processing\n",
      "19:11:37 - cmdstanpy - INFO - Chain [1] done processing\n",
      "19:11:38 - cmdstanpy - INFO - Chain [1] start processing\n",
      "19:11:38 - cmdstanpy - INFO - Chain [1] done processing\n",
      "19:11:39 - cmdstanpy - INFO - Chain [1] start processing\n",
      "19:11:39 - cmdstanpy - INFO - Chain [1] done processing\n",
      "19:11:40 - cmdstanpy - INFO - Chain [1] start processing\n",
      "19:11:40 - cmdstanpy - INFO - Chain [1] done processing\n",
      "19:11:41 - cmdstanpy - INFO - Chain [1] start processing\n",
      "19:11:41 - cmdstanpy - INFO - Chain [1] done processing\n",
      "19:11:42 - cmdstanpy - INFO - Chain [1] start processing\n",
      "19:11:42 - cmdstanpy - INFO - Chain [1] done processing\n",
      "19:11:43 - cmdstanpy - INFO - Chain [1] start processing\n",
      "19:11:43 - cmdstanpy - INFO - Chain [1] done processing\n",
      "19:11:44 - cmdstanpy - INFO - Chain [1] start processing\n",
      "19:11:44 - cmdstanpy - INFO - Chain [1] done processing\n",
      "19:11:45 - cmdstanpy - INFO - Chain [1] start processing\n",
      "19:11:45 - cmdstanpy - INFO - Chain [1] done processing\n",
      "19:11:46 - cmdstanpy - INFO - Chain [1] start processing\n",
      "19:11:46 - cmdstanpy - INFO - Chain [1] done processing\n"
     ]
    }
   ],
   "source": [
    "# Install Prophet jika belum terpasang\n",
    "# !pip install prophet\n",
    "\n",
    "import pandas as pd\n",
    "from prophet import Prophet\n",
    "import matplotlib.pyplot as plt\n",
    "from sklearn.metrics import mean_absolute_error, mean_squared_error\n",
    "import numpy as np\n",
    "\n",
    "# Load dataset\n",
    "df = pd.read_csv(\"data/tiketcom_bestprice.csv\", sep='|')\n",
    "\n",
    "# Filter hanya rute dari Jakarta\n",
    "df_jkt = df[df['origin'] == 'JKTC'].copy()\n",
    "df_jkt['depart_date'] = pd.to_datetime(df_jkt['depart_date'])\n",
    "\n",
    "# Ambil semua tujuan unik dari Jakarta\n",
    "destinations = df_jkt['destination'].unique()\n",
    "\n",
    "# Inisialisasi list untuk forecast dan evaluasi\n",
    "all_forecasts = []\n",
    "eval_results = []\n",
    "\n",
    "# Loop untuk setiap tujuan\n",
    "for dest in destinations:\n",
    "    df_dest = df_jkt[df_jkt['destination'] == dest]\n",
    "    \n",
    "    # Group data harian dan ambil harga minimum per tanggal\n",
    "    df_daily = df_dest.groupby('depart_date')['best_price'].min().reset_index()\n",
    "    df_daily.columns = ['ds', 'y']\n",
    "    \n",
    "    if len(df_daily) < 30:\n",
    "        continue  # skip jika data terlalu sedikit\n",
    "    \n",
    "    # Split train-test\n",
    "    df_train = df_daily.iloc[:-7]\n",
    "    df_test = df_daily.iloc[-7:]\n",
    "\n",
    "    # Training Prophet\n",
    "    model = Prophet(daily_seasonality=True)\n",
    "    model.fit(df_train)\n",
    "    \n",
    "    # Forecast 7 hari ke depan\n",
    "    future = model.make_future_dataframe(periods=7)\n",
    "    forecast = model.predict(future)\n",
    "\n",
    "    # Evaluasi\n",
    "    forecast_test = forecast[['ds', 'yhat']].tail(7)\n",
    "    y_true = df_test['y'].values\n",
    "    y_pred = forecast_test['yhat'].values\n",
    "    mae = mean_absolute_error(y_true, y_pred)\n",
    "    rmse = np.sqrt(mean_squared_error(y_true, y_pred))\n",
    "    eval_results.append({'destination': dest, 'MAE': mae, 'RMSE': rmse})\n",
    "\n",
    "    # Simpan prediksi\n",
    "    forecast_7 = forecast[['ds', 'yhat', 'yhat_lower', 'yhat_upper']].tail(7)\n",
    "    forecast_7['destination'] = dest\n",
    "    all_forecasts.append(forecast_7)\n",
    "\n",
    "# Gabungkan hasil\n",
    "result_df = pd.concat(all_forecasts, ignore_index=True)\n",
    "eval_df = pd.DataFrame(eval_results)\n",
    "\n",
    "# Tentukan 10 tujuan terpopuler berdasarkan jumlah data (frekuensi) di df_jkt\n",
    "top_dest = df_jkt['destination'].value_counts().head(10).index.tolist()\n",
    "\n",
    "import plotly.graph_objs as go\n",
    "from plotly.subplots import make_subplots\n",
    "\n",
    "fig = make_subplots(rows=5, cols=2, subplot_titles=[f'Tujuan {d}' for d in top_dest])\n",
    "\n",
    "for i, dest in enumerate(top_dest):\n",
    "    subset = result_df[result_df['destination'] == dest]\n",
    "    row = i // 2 + 1\n",
    "    col = i % 2 + 1\n",
    "\n",
    "    fig.add_trace(go.Scatter(x=subset['ds'], y=subset['yhat'], name=f'Forecast {dest}', mode='lines'), row=row, col=col)\n",
    "    fig.add_trace(go.Scatter(x=subset['ds'], y=subset['yhat_upper'], name='Upper', mode='lines', line=dict(width=0), showlegend=False), row=row, col=col)\n",
    "    fig.add_trace(go.Scatter(x=subset['ds'], y=subset['yhat_lower'], name='Lower', mode='lines', fill='tonexty', line=dict(width=0), fillcolor='rgba(173,216,230,0.3)', showlegend=False), row=row, col=col)\n",
    "\n",
    "fig.update_layout(height=1200, width=1000, title_text=\"Forecast Harga Tiket 7 Hari ke 10 Tujuan Terpopuler dari Jakarta\")\n",
    "fig.show()\n",
    "\n",
    "# Tampilkan tabel hasil forecasting untuk 10 tujuan terpopuler\n",
    "for dest in top_dest:\n",
    "    print(f\"\\n=== Forecast Harga Tiket 7 Hari ke Depan untuk Tujuan {dest} ===\")\n",
    "    display(result_df[result_df['destination'] == dest][['ds', 'yhat', 'yhat_lower', 'yhat_upper']].round(2))\n",
    "\n",
    "import os\n",
    "import pickle\n",
    "\n",
    "# Buat folder untuk menyimpan model\n",
    "os.makedirs(\"models\", exist_ok=True)\n",
    "\n",
    "# Loop untuk setiap tujuan\n",
    "for dest in destinations:\n",
    "    df_dest = df_jkt[df_jkt['destination'] == dest]\n",
    "    \n",
    "    df_daily = df_dest.groupby('depart_date')['best_price'].min().reset_index()\n",
    "    df_daily.columns = ['ds', 'y']\n",
    "    \n",
    "    if len(df_daily) < 30:\n",
    "        continue\n",
    "    \n",
    "    df_train = df_daily.iloc[:-7]\n",
    "    df_test = df_daily.iloc[-7:]\n",
    "\n",
    "    model = Prophet(daily_seasonality=True)\n",
    "    model.fit(df_train)\n",
    "\n",
    "    # 🚀 Export model Prophet ke file .pkl\n",
    "    with open(f\"models/prophet_model_{dest}.pkl\", \"wb\") as f:\n",
    "        pickle.dump(model, f)\n",
    "\n",
    "    # Forecast\n",
    "    future = model.make_future_dataframe(periods=7)\n",
    "    forecast = model.predict(future)\n",
    "\n",
    "    forecast_test = forecast[['ds', 'yhat']].tail(7)\n",
    "    y_true = df_test['y'].values\n",
    "    y_pred = forecast_test['yhat'].values\n",
    "    mae = mean_absolute_error(y_true, y_pred)\n",
    "    rmse = np.sqrt(mean_squared_error(y_true, y_pred))\n",
    "    eval_results.append({'destination': dest, 'MAE': mae, 'RMSE': rmse})\n",
    "\n",
    "    forecast_7 = forecast[['ds', 'yhat', 'yhat_lower', 'yhat_upper']].tail(7)\n",
    "    forecast_7['destination'] = dest\n",
    "    all_forecasts.append(forecast_7)\n",
    "\n",
    "\n",
    "# Simpan ke file jika perlu\n",
    "# result_df.to_csv(\"forecast_7days_all_destinations.csv\", index=False)\n",
    "# eval_df.to_csv(\"evaluation_metrics_all_destinations.csv\", index=False)\n"
   ]
  }
 ],
 "metadata": {
  "kernelspec": {
   "display_name": "Python 3",
   "language": "python",
   "name": "python3"
  },
  "language_info": {
   "codemirror_mode": {
    "name": "ipython",
    "version": 3
   },
   "file_extension": ".py",
   "mimetype": "text/x-python",
   "name": "python",
   "nbconvert_exporter": "python",
   "pygments_lexer": "ipython3",
   "version": "3.10.10"
  }
 },
 "nbformat": 4,
 "nbformat_minor": 5
}
